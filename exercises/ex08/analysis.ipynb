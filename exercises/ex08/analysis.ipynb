{
 "cells": [
  {
   "cell_type": "markdown",
   "metadata": {},
   "source": [
    "# Analysis for Continuous Improvement\n",
    "\n",
    "Author Name: Ziqi Lin\n",
    "\n",
    "9-digit PID: 730531052\n",
    "\n",
    "Continuous Improvement embraces a belief there is _always room to make things better_. It is a mindset and process we value and practice in this course. In this assignment, you are able to practice continuous improvement and contribute to the design ideas of the course.\n",
    "\n",
    "## Brainstorming Ideas\n",
    "\n",
    "Reflect on your personal experiences and observations in COMP110 and **brainstorm modifications to the course that _create value_ beyond its current design**. When brainstorming, try not to be critical of the ideas you come up with regarding scale, stakeholders impacted, or for any other reasons. In the markdown cell below, brainstorm 3 to 5 ideas you think would create value for you.\n",
    "\n",
    "Each brainstormed idea should state a. the suggested change or addition, b. what the expected value created, and c. which specific stakeholders would benefit.  If helpful, expand on the following template \"The course should (state idea here) because it will (state value created here) for (insert stakeholders here).\"\n",
    "\n",
    "Example A: \"The course should use only examples from psychology experiments because it will be more relevant for students who are psychology majors.\"\n",
    "\n",
    "Example B: \"The course should not have post-lesson questions because they are not useful for most students in the class.\""
   ]
  },
  {
   "cell_type": "markdown",
   "metadata": {},
   "source": [
    "## Connecting with Available Data\n",
    "\n",
    "The data you have available for this analysis is limited to the anonymized course survey you and your peers filled out a few weeks ago. The data is found in the `survey.csv` file in this exercise directory. Each row represents an individual survey response. Each column has a description which can be found on the project write-up here: <https://22s.comp110.com/exercises/ex08.html>\n",
    "\n",
    "Review the list of available data and identify which one of your ideas _does not_, or is _least likely to_, have relevant data to support the analysis of your idea to create value. In the box below, identify which of your ideas lacks data and suggest how we might be able to collect this data in the future. One aspect of _continuous improvement_ is trying to avoid \"tunnel vision\" where possible improvements are not considered because there is no data available to analyze it. Identifying new data sources can unlock improvements!"
   ]
  },
  {
   "cell_type": "markdown",
   "metadata": {},
   "source": [
    "### Part 1. Creative Ideation\n",
    "\n",
    "1. The course should have notes with knowledge points mentioned in lecture videos because it will be useful for students who make their own notes to check if they miss any key points.\n",
    "2. The course should offer reviewing materials before synchronous practice lessons because they allow students who don't have much prior experience in computer science to better prepare for the upcoming class.\n",
    "3. The course should reduce the number of quizzes because most students who have spent lots of time using digital technology to do school work may feel stressed about frequent exams.\n",
    "4. The course should use cases and examples related to majors other than Computer Science because students from other majors can be more involved in this course with familiar contents.\n",
    "5. The course should keep the live stream option for Thurday's class because students who are worrying about social distance in the pandanmic situation could still participate in synchronous class."
   ]
  },
  {
   "cell_type": "markdown",
   "metadata": {},
   "source": [
    "### Part 2. Identifying Missing Data\n",
    "\n",
    "1. Idea without sufficient data to analyze: The course should hold more review session before quizzes because students can receive more practice to prepare for the quizzes.\n",
    "\n",
    "2. Suggestion for how to collect data to support this idea in the future: Create a question which ask students to rank their willingness to have more practice exercises before quiz (1 being Strongly Disagree and 7 being Strongly Agree)."
   ]
  },
  {
   "cell_type": "markdown",
   "metadata": {},
   "source": [
    "## Choosing an Idea to Analyze\n",
    "\n",
    "Consider those of your ideas which _do_ seem likely to have relevant data to analyze. If none of your ideas do, spend a few minutes and brainstorm another idea or two with the added connection of data available on hand and add those ideas to your brainstormed ideas list.\n",
    "\n",
    "Select the one idea which you believe is _most valuable_ to analyze relative to the others and has data to support the analysis of. In the markdown cell for Part 3 below, identify the idea you are exploring and articulate why you believe it is most valuable (e.g. widest impact, biggest opportunity for improvement, simplest change for significant improvement, and so on)."
   ]
  },
  {
   "cell_type": "markdown",
   "metadata": {},
   "source": [
    "### Part 3. Choosing Your Analysis\n",
    "\n",
    "1. Idea to analyze with available data: The course should offer reviewing materials before synchronous practice lessons because they allow students who don't have much prior experience in computer science to better prepare for the upcoming class.\n",
    "\n",
    "2. This idea is more valuable than the others brainstormed because: COMP110 is an intro level course which is important for students to pave their path in the computer science field. Students who don't have much programming experience before may need to spend more time on reviewing the knowledge learnt from videos to better understand and complete the inclass practice in synchronous classes.\n"
   ]
  },
  {
   "cell_type": "markdown",
   "metadata": {},
   "source": [
    "## Your Analysis\n",
    "\n",
    "Before you begin analysis, a reminder that we do not expect the data to support everyone's ideas and you can complete this exercise for full credit even if the data does not clearly support your suggestion or even completely refutes it. What we are looking for is a logical attempt to explore the data using the techniques you have learned up until now in a way that _either_ supports, refutes, or does not have a clear result and then to reflect on your findings after the analysis.\n",
    "\n",
    "Using the utility functions you created for the previous exercise, you will continue with your analysis in the following part. Before you begin, refer to the rubric on the technical expectations of this section in the exercise write-up.\n",
    "\n",
    "In this section, you are expected to interleave code and markdown cells such that for each step of your analysis you are starting with an English description of what you are planning to do next in a markdown cell, followed by a Python cell that performs that step of the analysis."
   ]
  },
  {
   "cell_type": "markdown",
   "metadata": {},
   "source": [
    "### Part 4. Analysis\n",
    "\n",
    "We begin by changing some settings in the notebook to automatically reload changes to imported files."
   ]
  },
  {
   "cell_type": "code",
   "execution_count": 1,
   "metadata": {},
   "outputs": [],
   "source": [
    "%reload_ext autoreload\n",
    "%autoreload 2"
   ]
  },
  {
   "cell_type": "markdown",
   "metadata": {},
   "source": [
    "We continue by importing the helper functions from `data_utils`."
   ]
  },
  {
   "cell_type": "code",
   "execution_count": 47,
   "metadata": {},
   "outputs": [],
   "source": [
    "# TODO: You complete the code blocks from here forward!\n",
    "from data_utils import read_csv_rows, head, columnar, select, count, omit"
   ]
  },
  {
   "cell_type": "markdown",
   "metadata": {},
   "source": [
    "Next, ... (you take it from here and add additional code and markdown cells to read in the CSV file and process it as needed)"
   ]
  },
  {
   "cell_type": "code",
   "execution_count": 53,
   "metadata": {},
   "outputs": [
    {
     "name": "stdout",
     "output_type": "stream",
     "text": [
      "prior_exp_counts: {'7-12 months': 55, 'None to less than one month!': 355, '2-6 months': 141, '1-2 years': 31, 'Over 2 years': 18}\n",
      "ap_principles_counts: {'No': 157, 'Yes': 88}\n",
      "ap_a_counts: {'No': 184, 'Yes': 61}\n"
     ]
    },
    {
     "data": {
      "text/plain": [
       "<BarContainer object of 5 artists>"
      ]
     },
     "execution_count": 53,
     "metadata": {},
     "output_type": "execute_result"
    },
    {
     "data": {
      "image/png": "[encoded data removed]",
      "text/plain": [
       "<Figure size 432x288 with 1 Axes>"
      ]
     },
     "metadata": {
      "needs_background": "light"
     },
     "output_type": "display_data"
    }
   ],
   "source": [
    "from matplotlib import pyplot\n",
    "\n",
    "\n",
    "SURVEY_DATA_CSV_FILE_PATH: str = \"../../data/survey.csv\"\n",
    "\n",
    "# Read rows of the file survey.csv into a table\n",
    "data_table: list[dict[str, str]] = read_csv_rows(SURVEY_DATA_CSV_FILE_PATH)\n",
    "\n",
    "# Translate the row oriented table into a column oriented table\n",
    "data_cols: dict[str, list[str]] = columnar(data_table)\n",
    "\n",
    "# Select the first 600 students in the data table for analysis\n",
    "table_head: dict[str, list[str]] = head(data_cols, 600)\n",
    "\n",
    "# Produce a new column-based table with only the prior_exp, ap_principles and ap_a subsets\n",
    "selected_data: dict[str, list[str]] = select(table_head, [\"prior_exp\", \"ap_principles\", \"ap_a\", \"other_comp\"])\n",
    "\n",
    "# Produce a dictionary list summarizing the value and the number of times that value appeared in the input list\n",
    "prior_exp_counts: dict[str, int] = count(selected_data[\"prior_exp\"])\n",
    "print(f\"prior_exp_counts: {prior_exp_counts}\")\n",
    "ap_principles_counts: dict[str, int] = count(selected_data[\"ap_principles\"])\n",
    "ap_a_counts: dict[str, int] = count(selected_data[\"ap_a\"])\n",
    "\n",
    "# Omit the count of the empty answers in questions on ap_principles and ap_a\n",
    "ap_principles_counts = omit(ap_principles_counts)\n",
    "print(f\"ap_principles_counts: {ap_principles_counts}\")\n",
    "ap_a_counts = omit(ap_a_counts)\n",
    "print(f\"ap_a_counts: {ap_a_counts}\")\n",
    "\n",
    "# Analysis: From the count of prior_exp, we can know that there are 355 students among the 600 selected students had prior experience from none to less than 1 month and 141 students among the 600 selected students\n",
    "# had prior experience from 2 to 6 months. These indicate that most students have prior programming experience from none to 6 months.\n",
    "# From the counts of ap_principles and ap_a, we can see that much less students, who chose to answer the questions on ap_principles or ap_A, took AP Computer Science Principles or AP Computer Science A in the past.\n",
    "# The results of the three counts show that most students among the 600 students we selected from the poll do not have much foundation in programming.\n",
    "\n",
    "# Use bar charts to visualize the number of different answers in the question about prior experience\n",
    "# The question about prior experience contains 5 different kinds of answers\n",
    "# So the count of each answer can be better compared through a bar chart\n",
    "# The other two (ap_principles and ap_a) are yes or no questions in which the count of answers are obvious to be viewed without graphs\n",
    "pyplot.title(\"Prior Experience\")\n",
    "pyplot.xlabel(\"prior_exp\")\n",
    "pyplot.ylabel(\"frequencies\")\n",
    "labels: list[str] = list(prior_exp_counts.keys())\n",
    "values: list[int] = list(prior_exp_counts.values())\n",
    "pyplot.bar(labels, values)"
   ]
  },
  {
   "cell_type": "markdown",
   "metadata": {},
   "source": [
    "## Conclusion\n",
    "\n",
    "In the following markdown cell, write a reflective conclusion given the analysis you performed and identify recommendations.\n",
    "\n",
    "If your analysis of the data supports your idea, state your recommendation for the change and summarize the data analysys results you found which support it. Additionally, describe any extensions or refinements to this idea which might be explored further. Finally, discuss the potential costs, trade-offs, or stakeholders who may be negatively impacted by this proposed change.\n",
    "\n",
    "If your analysis of the data is inconclusive, summarize why your data analysis results were inconclusive in the support of your idea. Additionally, describe what experimental idea implementation or additional data collection might help build more confidence in assessing your idea. Finally, discuss the potential costs, trade-offs, or stakeholders who may be negatively impacted by experimenting with your idea.\n",
    "\n",
    "Finally, if your analysis of the data does not support it, summarize your data analysis results and why it refutes your idea. Discuss the potential costs, trade-offs, or stakeholders who may be negatively impacted by this proposed change. If you disagree with the validity of the findings, describe why your idea still makes sense to implement and what alternative data would better support it. If you agree with the validity of the data analysis, describe what alternate ideas or extensions you would explore instead. "
   ]
  },
  {
   "cell_type": "markdown",
   "metadata": {},
   "source": [
    "### Part 5. Conclusion\n",
    "\n"
   ]
  },
  {
   "cell_type": "markdown",
   "metadata": {},
   "source": [
    "The results from the three subsets related to the prior programming experience students had can reflect that most students do not have fundamental knowledge about programming in COMP110. The results support my idea of adding pre-class reviewing materials before the practice class on Thursday if most students do not have much prior programming skills and experience. Although we cannot tell that students without much experience in programming will definitely have difficulties in learning new contents in COMP110, providing pre-lession review materials before doing practices in Thursday's classes may help students better understand what they learnt in Tuesday's videos and prepare for the inclass practice.\n",
    "\n",
    "The potential costs of adopting the idea will be more on the professor side since professor might need to spend extra time providing summary of key points and materials for review each week. Additionally, students may have different opinions on the extra pre-class materials for review. Some may regard it as an opportunity to consolidate their understanding on knowledge while others may think it takes extra time to work on their school work.\n",
    "\n",
    "If the idea is feasible, professor can first do a poll to see if students prefer pre-lession review materials. If students love to have more materials to help them learn better, professor can consider adopting the idea. However, if most students are confident in their course work and do not need such materials, then professor can put this idea aside."
   ]
  }
 ],
 "metadata": {
  "interpreter": {
   "hash": "aee8b7b246df8f9039afb4144a1f6fd8d2ca17a180786b69acc140d282b71a49"
  },
  "kernelspec": {
   "display_name": "Python 3.10.2 64-bit",
   "language": "python",
   "name": "python3"
  },
  "language_info": {
   "codemirror_mode": {
    "name": "ipython",
    "version": 3
   },
   "file_extension": ".py",
   "mimetype": "text/x-python",
   "name": "python",
   "nbconvert_exporter": "python",
   "pygments_lexer": "ipython3",
   "version": "3.10.1"
  },
  "orig_nbformat": 4
 },
 "nbformat": 4,
 "nbformat_minor": 2
}
